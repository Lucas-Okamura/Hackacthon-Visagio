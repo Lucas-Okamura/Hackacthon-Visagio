{
 "cells": [
  {
   "cell_type": "code",
   "execution_count": 1,
   "metadata": {},
   "outputs": [
    {
     "name": "stderr",
     "output_type": "stream",
     "text": [
      "C:\\Users\\Lucas\\Anaconda3\\lib\\site-packages\\statsmodels\\tools\\_testing.py:19: FutureWarning: pandas.util.testing is deprecated. Use the functions in the public API at pandas.testing instead.\n",
      "  import pandas.util.testing as tm\n"
     ]
    }
   ],
   "source": [
    "import pandas as pd\n",
    "import numpy as np\n",
    "import seaborn as sns\n",
    "import matplotlib.pyplot as plt"
   ]
  },
  {
   "cell_type": "markdown",
   "metadata": {},
   "source": [
    "## Import de dados"
   ]
  },
  {
   "cell_type": "code",
   "execution_count": 172,
   "metadata": {},
   "outputs": [],
   "source": [
    "fires = pd.read_csv('./data/database_fires.csv')"
   ]
  },
  {
   "cell_type": "code",
   "execution_count": 114,
   "metadata": {},
   "outputs": [
    {
     "data": {
      "text/plain": [
       "(251767, 14)"
      ]
     },
     "execution_count": 114,
     "metadata": {},
     "output_type": "execute_result"
    }
   ],
   "source": [
    "fires.shape"
   ]
  },
  {
   "cell_type": "code",
   "execution_count": 173,
   "metadata": {},
   "outputs": [],
   "source": [
    "respostas = pd.read_csv('./data/respostas.csv')"
   ]
  },
  {
   "cell_type": "markdown",
   "metadata": {},
   "source": [
    "## Feature Engineering\n",
    "\n",
    "### Fix Feature de temperaturas"
   ]
  },
  {
   "cell_type": "code",
   "execution_count": 174,
   "metadata": {},
   "outputs": [],
   "source": [
    "# Dropar a temp_cond_media por ter alta correlacao com outras features\n",
    "\n",
    "fires = fires.drop(columns = ['temp_comp_med'])\n",
    "respostas = respostas.drop(columns = ['temp_comp_med'])\n",
    "\n",
    "# Adicionar feature de delta_temp\n",
    "\n",
    "fires['delta_temp'] = fires['temp_max'] - fires['temp_min']\n",
    "respostas['delta_temp'] = respostas['temp_max'] - respostas['temp_min']"
   ]
  },
  {
   "cell_type": "code",
   "execution_count": 176,
   "metadata": {},
   "outputs": [],
   "source": [
    "# Célula para ajustar ordem de colunas\n",
    "fires = fires[['id', 'estado', 'estacao', 'data', 'precipitacao', \n",
    "               'temp_max','temp_min', 'insolacao', 'evaporacao_piche', \n",
    "               'umidade_rel_med', 'vel_vento_med', 'altitude', 'delta_temp', 'fires']]\n",
    "\n",
    "respostas = respostas[['id', 'estado', 'estacao', 'data', 'precipitacao', \n",
    "               'temp_max','temp_min', 'insolacao', 'evaporacao_piche', \n",
    "               'umidade_rel_med', 'vel_vento_med', 'altitude', 'delta_temp']]"
   ]
  },
  {
   "cell_type": "code",
   "execution_count": 45,
   "metadata": {},
   "outputs": [
    {
     "data": {
      "text/html": [
       "<div>\n",
       "<style scoped>\n",
       "    .dataframe tbody tr th:only-of-type {\n",
       "        vertical-align: middle;\n",
       "    }\n",
       "\n",
       "    .dataframe tbody tr th {\n",
       "        vertical-align: top;\n",
       "    }\n",
       "\n",
       "    .dataframe thead th {\n",
       "        text-align: right;\n",
       "    }\n",
       "</style>\n",
       "<table border=\"1\" class=\"dataframe\">\n",
       "  <thead>\n",
       "    <tr style=\"text-align: right;\">\n",
       "      <th></th>\n",
       "      <th>id</th>\n",
       "      <th>estacao</th>\n",
       "      <th>precipitacao</th>\n",
       "      <th>temp_max</th>\n",
       "      <th>temp_min</th>\n",
       "      <th>insolacao</th>\n",
       "      <th>evaporacao_piche</th>\n",
       "      <th>umidade_rel_med</th>\n",
       "      <th>vel_vento_med</th>\n",
       "      <th>altitude</th>\n",
       "      <th>delta_temp</th>\n",
       "      <th>ano</th>\n",
       "      <th>mes</th>\n",
       "      <th>dia</th>\n",
       "      <th>lat</th>\n",
       "      <th>long</th>\n",
       "      <th>fires</th>\n",
       "    </tr>\n",
       "  </thead>\n",
       "  <tbody>\n",
       "    <tr>\n",
       "      <th>0</th>\n",
       "      <td>1</td>\n",
       "      <td>50484</td>\n",
       "      <td>NaN</td>\n",
       "      <td>31.4</td>\n",
       "      <td>NaN</td>\n",
       "      <td>2.3</td>\n",
       "      <td>NaN</td>\n",
       "      <td>96.0</td>\n",
       "      <td>0.00000</td>\n",
       "      <td>170.0</td>\n",
       "      <td>NaN</td>\n",
       "      <td>2016</td>\n",
       "      <td>1</td>\n",
       "      <td>1</td>\n",
       "      <td>-8.77</td>\n",
       "      <td>-70.55</td>\n",
       "      <td>0</td>\n",
       "    </tr>\n",
       "    <tr>\n",
       "      <th>1</th>\n",
       "      <td>2</td>\n",
       "      <td>50484</td>\n",
       "      <td>0.0</td>\n",
       "      <td>32.5</td>\n",
       "      <td>23.3</td>\n",
       "      <td>4.4</td>\n",
       "      <td>NaN</td>\n",
       "      <td>95.0</td>\n",
       "      <td>0.51444</td>\n",
       "      <td>170.0</td>\n",
       "      <td>9.2</td>\n",
       "      <td>2016</td>\n",
       "      <td>1</td>\n",
       "      <td>2</td>\n",
       "      <td>-8.77</td>\n",
       "      <td>-70.55</td>\n",
       "      <td>0</td>\n",
       "    </tr>\n",
       "    <tr>\n",
       "      <th>2</th>\n",
       "      <td>3</td>\n",
       "      <td>50484</td>\n",
       "      <td>35.2</td>\n",
       "      <td>30.5</td>\n",
       "      <td>24.0</td>\n",
       "      <td>0.6</td>\n",
       "      <td>NaN</td>\n",
       "      <td>97.0</td>\n",
       "      <td>0.51444</td>\n",
       "      <td>170.0</td>\n",
       "      <td>6.5</td>\n",
       "      <td>2016</td>\n",
       "      <td>1</td>\n",
       "      <td>3</td>\n",
       "      <td>-8.77</td>\n",
       "      <td>-70.55</td>\n",
       "      <td>0</td>\n",
       "    </tr>\n",
       "    <tr>\n",
       "      <th>3</th>\n",
       "      <td>4</td>\n",
       "      <td>50484</td>\n",
       "      <td>60.2</td>\n",
       "      <td>31.7</td>\n",
       "      <td>22.3</td>\n",
       "      <td>2.0</td>\n",
       "      <td>NaN</td>\n",
       "      <td>96.0</td>\n",
       "      <td>0.00000</td>\n",
       "      <td>170.0</td>\n",
       "      <td>9.4</td>\n",
       "      <td>2016</td>\n",
       "      <td>1</td>\n",
       "      <td>4</td>\n",
       "      <td>-8.77</td>\n",
       "      <td>-70.55</td>\n",
       "      <td>0</td>\n",
       "    </tr>\n",
       "    <tr>\n",
       "      <th>4</th>\n",
       "      <td>5</td>\n",
       "      <td>50484</td>\n",
       "      <td>28.4</td>\n",
       "      <td>28.5</td>\n",
       "      <td>23.0</td>\n",
       "      <td>0.1</td>\n",
       "      <td>NaN</td>\n",
       "      <td>95.0</td>\n",
       "      <td>0.00000</td>\n",
       "      <td>170.0</td>\n",
       "      <td>5.5</td>\n",
       "      <td>2016</td>\n",
       "      <td>1</td>\n",
       "      <td>5</td>\n",
       "      <td>-8.77</td>\n",
       "      <td>-70.55</td>\n",
       "      <td>0</td>\n",
       "    </tr>\n",
       "  </tbody>\n",
       "</table>\n",
       "</div>"
      ],
      "text/plain": [
       "   id  estacao  precipitacao  temp_max  temp_min  insolacao  evaporacao_piche  \\\n",
       "0   1    50484           NaN      31.4       NaN        2.3               NaN   \n",
       "1   2    50484           0.0      32.5      23.3        4.4               NaN   \n",
       "2   3    50484          35.2      30.5      24.0        0.6               NaN   \n",
       "3   4    50484          60.2      31.7      22.3        2.0               NaN   \n",
       "4   5    50484          28.4      28.5      23.0        0.1               NaN   \n",
       "\n",
       "   umidade_rel_med  vel_vento_med  altitude  delta_temp   ano  mes  dia   lat  \\\n",
       "0             96.0        0.00000     170.0         NaN  2016    1    1 -8.77   \n",
       "1             95.0        0.51444     170.0         9.2  2016    1    2 -8.77   \n",
       "2             97.0        0.51444     170.0         6.5  2016    1    3 -8.77   \n",
       "3             96.0        0.00000     170.0         9.4  2016    1    4 -8.77   \n",
       "4             95.0        0.00000     170.0         5.5  2016    1    5 -8.77   \n",
       "\n",
       "    long  fires  \n",
       "0 -70.55      0  \n",
       "1 -70.55      0  \n",
       "2 -70.55      0  \n",
       "3 -70.55      0  \n",
       "4 -70.55      0  "
      ]
     },
     "execution_count": 45,
     "metadata": {},
     "output_type": "execute_result"
    }
   ],
   "source": [
    "fires.head()"
   ]
  },
  {
   "cell_type": "markdown",
   "metadata": {},
   "source": [
    "### Treating miss data"
   ]
  },
  {
   "cell_type": "code",
   "execution_count": 42,
   "metadata": {},
   "outputs": [],
   "source": [
    "import missingno as msno"
   ]
  },
  {
   "cell_type": "code",
   "execution_count": 43,
   "metadata": {
    "collapsed": true,
    "jupyter": {
     "outputs_hidden": true
    }
   },
   "outputs": [
    {
     "data": {
      "text/plain": [
       "<matplotlib.axes._subplots.AxesSubplot at 0x218ca1c9048>"
      ]
     },
     "execution_count": 43,
     "metadata": {},
     "output_type": "execute_result"
    },
    {
     "data": {
      "image/png": "[encoded data removed]",
      "text/plain": [
       "<Figure size 1800x720 with 2 Axes>"
      ]
     },
     "metadata": {
      "needs_background": "light"
     },
     "output_type": "display_data"
    }
   ],
   "source": [
    "msno.matrix(fires)"
   ]
  },
  {
   "cell_type": "code",
   "execution_count": 50,
   "metadata": {},
   "outputs": [],
   "source": [
    "# Tentativa de tratar NA na coluna de evaporacao_piche\n",
    "trata_evap = fires[['id', 'evaporacao_piche', 'fires']]\n",
    "trata_evap = trata_evap.dropna()"
   ]
  },
  {
   "cell_type": "code",
   "execution_count": 54,
   "metadata": {},
   "outputs": [],
   "source": [
    "evap_0 = trata_evap.loc[trata_evap['fires'] == 0]\n",
    "evap_1 = trata_evap.loc[trata_evap['fires'] == 1]"
   ]
  },
  {
   "cell_type": "code",
   "execution_count": 63,
   "metadata": {},
   "outputs": [
    {
     "name": "stdout",
     "output_type": "stream",
     "text": [
      "Média de evaporacao_piche: 4.034045169861426 -- 6.136099933291731\n",
      "Std de evaporacao_piche: 3.1442728620997165 -- 3.7929661457980366\n",
      "Mediana de evaporacao_piche: 3.2 -- 5.2\n"
     ]
    }
   ],
   "source": [
    "print(f'Média de evaporacao_piche: {evap_0[\"evaporacao_piche\"].mean()} -- {evap_1[\"evaporacao_piche\"].mean()}')\n",
    "print(f'Std de evaporacao_piche: {evap_0[\"evaporacao_piche\"].std()} -- {evap_1[\"evaporacao_piche\"].std()}')\n",
    "print(f'Mediana de evaporacao_piche: {evap_0[\"evaporacao_piche\"].median()} -- {evap_1[\"evaporacao_piche\"].median()}')"
   ]
  },
  {
   "cell_type": "code",
   "execution_count": 177,
   "metadata": {},
   "outputs": [],
   "source": [
    "na_0 = (fires.loc[(fires['evaporacao_piche'].isna()) & (fires['fires'] == 0)])\n",
    "na_0 = na_0[['id', 'evaporacao_piche']]\n",
    "na_0['evaporacao_piche'] = 4 # média calculada acima\n",
    "\n",
    "na_1 = (fires.loc[(fires['evaporacao_piche'].isna()) & (fires['fires'] == 1)])\n",
    "na_1 = na_1[['id', 'evaporacao_piche']]\n",
    "na_1['evaporacao_piche'] = 6 # média calculada acima\n",
    "\n",
    "na_0 = na_0.append(na_1)\n",
    "\n",
    "fires = fires.merge(na_0, how = 'left', left_on = 'id', right_on = 'id')\n",
    "\n",
    "fires['evaporacao_piche'] = fires.apply(lambda row: row['evaporacao_piche_x'] if (row['evaporacao_piche_x'] >= 0) else row['evaporacao_piche_y'], axis = 1)\n",
    "\n",
    "fires = fires.drop(columns = ['evaporacao_piche_x', 'evaporacao_piche_y'])"
   ]
  },
  {
   "cell_type": "markdown",
   "metadata": {},
   "source": [
    "### Fix feature de datas\n",
    "\n",
    "Transformei a coluna de data em outras duas:\n",
    " - dia_ano: é uma coluna type Timestamp (pra ser contínuo) com dia e mês da linha mas tudo no mesmo ano para pegar efeitos de sazonalidade\n",
    " - ano: ano da linha pq pode ser que um ano seja mais propício a ter incêndios que outro"
   ]
  },
  {
   "cell_type": "code",
   "execution_count": 25,
   "metadata": {},
   "outputs": [],
   "source": [
    "# fires['dia_ano'] = fires['data'].apply(lambda row: pd.to_datetime(row[:-5] + '/2000', format = '%d/%m/%Y'))\n",
    "# respostas['dia_ano'] = respostas['data'].apply(lambda row: pd.to_datetime(row[:-5] + '/2000', format = '%d/%m/%Y'))"
   ]
  },
  {
   "cell_type": "code",
   "execution_count": 179,
   "metadata": {},
   "outputs": [],
   "source": [
    "fires['dia'] = fires['data'].map(lambda x: int(x[:2]))\n",
    "respostas['dia'] = respostas['data'].map(lambda x: int(x[:2]))\n",
    "\n",
    "\n",
    "fires['mes'] = fires['data'].map(lambda x: int(x[3:5]))\n",
    "respostas['mes'] = respostas['data'].map(lambda x: int(x[3:5]))\n",
    "\n",
    "\n",
    "fires['ano'] = fires['data'].map(lambda x: int(x[-4:]))\n",
    "respostas['ano'] = respostas['data'].map(lambda x: int(x[-4:]))\n",
    "\n",
    "# fires = fires.drop(columns = ['data'])\n",
    "# respostas = respostas.drop(columns = ['data'])"
   ]
  },
  {
   "cell_type": "code",
   "execution_count": 186,
   "metadata": {},
   "outputs": [],
   "source": [
    "# Célula para ajustar ordem de colunas\n",
    "fires = fires[['id', 'estacao', 'precipitacao', \n",
    "               'temp_max','temp_min', 'insolacao', 'evaporacao_piche', \n",
    "               'umidade_rel_med', 'vel_vento_med', 'altitude', 'delta_temp', 'ano', 'mes', 'dia', 'lat', 'long','fires']]\n",
    "\n",
    "respostas = respostas[['id', 'estacao', 'precipitacao', \n",
    "               'temp_max','temp_min', 'insolacao', 'evaporacao_piche', \n",
    "               'umidade_rel_med', 'vel_vento_med', 'altitude', 'delta_temp', 'ano', 'mes', 'dia', 'lat', 'long']]"
   ]
  },
  {
   "cell_type": "code",
   "execution_count": 187,
   "metadata": {},
   "outputs": [
    {
     "data": {
      "text/html": [
       "<div>\n",
       "<style scoped>\n",
       "    .dataframe tbody tr th:only-of-type {\n",
       "        vertical-align: middle;\n",
       "    }\n",
       "\n",
       "    .dataframe tbody tr th {\n",
       "        vertical-align: top;\n",
       "    }\n",
       "\n",
       "    .dataframe thead th {\n",
       "        text-align: right;\n",
       "    }\n",
       "</style>\n",
       "<table border=\"1\" class=\"dataframe\">\n",
       "  <thead>\n",
       "    <tr style=\"text-align: right;\">\n",
       "      <th></th>\n",
       "      <th>id</th>\n",
       "      <th>estacao</th>\n",
       "      <th>precipitacao</th>\n",
       "      <th>temp_max</th>\n",
       "      <th>temp_min</th>\n",
       "      <th>insolacao</th>\n",
       "      <th>evaporacao_piche</th>\n",
       "      <th>umidade_rel_med</th>\n",
       "      <th>vel_vento_med</th>\n",
       "      <th>altitude</th>\n",
       "      <th>delta_temp</th>\n",
       "      <th>ano</th>\n",
       "      <th>mes</th>\n",
       "      <th>dia</th>\n",
       "      <th>lat</th>\n",
       "      <th>long</th>\n",
       "      <th>fires</th>\n",
       "    </tr>\n",
       "  </thead>\n",
       "  <tbody>\n",
       "    <tr>\n",
       "      <th>251762</th>\n",
       "      <td>251763</td>\n",
       "      <td>77437</td>\n",
       "      <td>0.0</td>\n",
       "      <td>33.4</td>\n",
       "      <td>23.2</td>\n",
       "      <td>9.0</td>\n",
       "      <td>4.0</td>\n",
       "      <td>58.25</td>\n",
       "      <td>0.00000</td>\n",
       "      <td>603.59</td>\n",
       "      <td>10.2</td>\n",
       "      <td>2019</td>\n",
       "      <td>5</td>\n",
       "      <td>23</td>\n",
       "      <td>-10.25</td>\n",
       "      <td>-48.25</td>\n",
       "      <td>0</td>\n",
       "    </tr>\n",
       "    <tr>\n",
       "      <th>251763</th>\n",
       "      <td>251764</td>\n",
       "      <td>77437</td>\n",
       "      <td>0.0</td>\n",
       "      <td>33.3</td>\n",
       "      <td>22.1</td>\n",
       "      <td>8.6</td>\n",
       "      <td>4.0</td>\n",
       "      <td>63.75</td>\n",
       "      <td>0.34296</td>\n",
       "      <td>603.59</td>\n",
       "      <td>11.2</td>\n",
       "      <td>2019</td>\n",
       "      <td>5</td>\n",
       "      <td>24</td>\n",
       "      <td>-10.25</td>\n",
       "      <td>-48.25</td>\n",
       "      <td>0</td>\n",
       "    </tr>\n",
       "    <tr>\n",
       "      <th>251764</th>\n",
       "      <td>251765</td>\n",
       "      <td>77437</td>\n",
       "      <td>0.0</td>\n",
       "      <td>32.6</td>\n",
       "      <td>21.6</td>\n",
       "      <td>6.9</td>\n",
       "      <td>4.0</td>\n",
       "      <td>65.50</td>\n",
       "      <td>0.00000</td>\n",
       "      <td>603.59</td>\n",
       "      <td>11.0</td>\n",
       "      <td>2019</td>\n",
       "      <td>5</td>\n",
       "      <td>25</td>\n",
       "      <td>-10.25</td>\n",
       "      <td>-48.25</td>\n",
       "      <td>0</td>\n",
       "    </tr>\n",
       "    <tr>\n",
       "      <th>251765</th>\n",
       "      <td>251766</td>\n",
       "      <td>77437</td>\n",
       "      <td>0.0</td>\n",
       "      <td>34.0</td>\n",
       "      <td>22.6</td>\n",
       "      <td>7.9</td>\n",
       "      <td>4.0</td>\n",
       "      <td>57.00</td>\n",
       "      <td>0.00000</td>\n",
       "      <td>603.59</td>\n",
       "      <td>11.4</td>\n",
       "      <td>2019</td>\n",
       "      <td>5</td>\n",
       "      <td>26</td>\n",
       "      <td>-10.25</td>\n",
       "      <td>-48.25</td>\n",
       "      <td>0</td>\n",
       "    </tr>\n",
       "    <tr>\n",
       "      <th>251766</th>\n",
       "      <td>251767</td>\n",
       "      <td>77437</td>\n",
       "      <td>0.0</td>\n",
       "      <td>33.3</td>\n",
       "      <td>23.7</td>\n",
       "      <td>9.9</td>\n",
       "      <td>4.0</td>\n",
       "      <td>54.25</td>\n",
       "      <td>0.34296</td>\n",
       "      <td>603.59</td>\n",
       "      <td>9.6</td>\n",
       "      <td>2019</td>\n",
       "      <td>5</td>\n",
       "      <td>27</td>\n",
       "      <td>-10.25</td>\n",
       "      <td>-48.25</td>\n",
       "      <td>0</td>\n",
       "    </tr>\n",
       "  </tbody>\n",
       "</table>\n",
       "</div>"
      ],
      "text/plain": [
       "            id  estacao  precipitacao  temp_max  temp_min  insolacao  \\\n",
       "251762  251763    77437           0.0      33.4      23.2        9.0   \n",
       "251763  251764    77437           0.0      33.3      22.1        8.6   \n",
       "251764  251765    77437           0.0      32.6      21.6        6.9   \n",
       "251765  251766    77437           0.0      34.0      22.6        7.9   \n",
       "251766  251767    77437           0.0      33.3      23.7        9.9   \n",
       "\n",
       "        evaporacao_piche  umidade_rel_med  vel_vento_med  altitude  \\\n",
       "251762               4.0            58.25        0.00000    603.59   \n",
       "251763               4.0            63.75        0.34296    603.59   \n",
       "251764               4.0            65.50        0.00000    603.59   \n",
       "251765               4.0            57.00        0.00000    603.59   \n",
       "251766               4.0            54.25        0.34296    603.59   \n",
       "\n",
       "        delta_temp   ano  mes  dia    lat   long  fires  \n",
       "251762        10.2  2019    5   23 -10.25 -48.25      0  \n",
       "251763        11.2  2019    5   24 -10.25 -48.25      0  \n",
       "251764        11.0  2019    5   25 -10.25 -48.25      0  \n",
       "251765        11.4  2019    5   26 -10.25 -48.25      0  \n",
       "251766         9.6  2019    5   27 -10.25 -48.25      0  "
      ]
     },
     "execution_count": 187,
     "metadata": {},
     "output_type": "execute_result"
    }
   ],
   "source": [
    "fires.tail()"
   ]
  },
  {
   "cell_type": "markdown",
   "metadata": {},
   "source": [
    "### Create feature de estado\n",
    "\n",
    "Encode básico (one-hot) para a coluna de estado. Criei a feature região, que indica a macro-região a qual o estado pertence."
   ]
  },
  {
   "cell_type": "code",
   "execution_count": 29,
   "metadata": {},
   "outputs": [],
   "source": [
    "# One-hot enconde com drop_first = True para remover dependencia de variáveis\n",
    "respostas = pd.get_dummies(respostas,prefix=['estado'], drop_first=True)\n",
    "fires = pd.get_dummies(fires,prefix=['estado'], drop_first=True)"
   ]
  },
  {
   "cell_type": "markdown",
   "metadata": {},
   "source": [
    "Encode de estado baseado em lat long média dos estados"
   ]
  },
  {
   "cell_type": "code",
   "execution_count": 185,
   "metadata": {},
   "outputs": [],
   "source": [
    "fires['lat'] = fires['estado'].apply(lambda row: dict_estados_lat_long[row][0])\n",
    "respostas['lat'] = respostas['estado'].apply(lambda row: dict_estados_lat_long[row][0])"
   ]
  },
  {
   "cell_type": "code",
   "execution_count": 184,
   "metadata": {},
   "outputs": [],
   "source": [
    "fires['long'] = fires['estado'].apply(lambda row: dict_estados_lat_long[row][1])\n",
    "respostas['long'] = respostas['estado'].apply(lambda row: dict_estados_lat_long[row][1])"
   ]
  },
  {
   "cell_type": "code",
   "execution_count": 181,
   "metadata": {},
   "outputs": [],
   "source": [
    "# Feature região\n",
    "dict_estados_lat_long = {\n",
    "    'AC': [ -8.77, -70.55]\n",
    "  , 'AL': [ -9.71, -35.73]\n",
    "  , 'AM': [ -3.07, -61.66]\n",
    "  , 'AP': [  1.41, -51.77]\n",
    "  , 'BA': [-12.96, -38.51]\n",
    "  , 'CE': [ -3.71, -38.54]\n",
    "  , 'DF': [-15.83, -47.86]\n",
    "  , 'ES': [-19.19, -40.34]\n",
    "  , 'GO': [-16.64, -49.31]\n",
    "  , 'MA': [ -2.55, -44.30]\n",
    "  , 'MT': [-12.64, -55.42]\n",
    "  , 'MS': [-20.51, -54.54]\n",
    "  , 'MG': [-18.10, -44.38]\n",
    "  , 'PA': [ -5.53, -52.29]\n",
    "  , 'PB': [ -7.06, -35.55]\n",
    "  , 'PR': [-24.89, -51.55]\n",
    "  , 'PE': [ -8.28, -35.07]\n",
    "  , 'PI': [ -8.28, -43.68]\n",
    "  , 'RJ': [-22.84, -43.15]\n",
    "  , 'RN': [ -5.22, -36.52]\n",
    "  , 'RO': [-11.22, -62.80]\n",
    "  , 'RS': [-30.01, -51.22]\n",
    "  , 'RR': [  1.89, -61.22]\n",
    "  , 'SC': [-27.33, -49.44]\n",
    "  , 'SE': [-10.90, -37.07]\n",
    "  , 'SP': [-23.55, -46.64]\n",
    "  , 'TO': [-10.25, -48.25]\n",
    "}"
   ]
  },
  {
   "cell_type": "markdown",
   "metadata": {},
   "source": [
    "### Fix (?) feature de estacao\n",
    "\n",
    "Ainda não entendi muito bem essa feature, então dropei ela"
   ]
  },
  {
   "cell_type": "code",
   "execution_count": 30,
   "metadata": {},
   "outputs": [],
   "source": [
    "fires = fires.drop(columns = ['estacao'])\n",
    "respostas = respostas.drop(columns = ['estacao'])"
   ]
  },
  {
   "cell_type": "markdown",
   "metadata": {},
   "source": [
    "## Modelagem\n",
    "\n",
    "### Modelo de ensemble de árvores usando XGBoost API"
   ]
  },
  {
   "cell_type": "code",
   "execution_count": 188,
   "metadata": {},
   "outputs": [],
   "source": [
    "from sklearn.metrics import precision_score, recall_score, accuracy_score, roc_auc_score\n",
    "import xgboost as xgb\n",
    "from sklearn.model_selection import train_test_split"
   ]
  },
  {
   "cell_type": "code",
   "execution_count": 15,
   "metadata": {},
   "outputs": [],
   "source": [
    "# Dataframe não contendo as variáveis categóricas ainda não tratadas (id, estacao, dia_ano). Dia_ano estou tendo problemas, teoricamente é numérica.\n",
    "dados_modelo = fires.drop(columns = ['id', 'dia_ano'])"
   ]
  },
  {
   "cell_type": "code",
   "execution_count": 50,
   "metadata": {},
   "outputs": [],
   "source": [
    "y = pd.DataFrame(dados_modelo['fires'])\n",
    "x = dados_modelo.drop(columns = ['fires'])"
   ]
  },
  {
   "cell_type": "code",
   "execution_count": 51,
   "metadata": {},
   "outputs": [],
   "source": [
    "X_train, X_test, Y_train, Y_test = train_test_split(x, y, test_size=0.15)"
   ]
  },
  {
   "cell_type": "code",
   "execution_count": 58,
   "metadata": {},
   "outputs": [],
   "source": [
    "param = {'eta': 0.2, \n",
    "         'max_depth': 4, 'objective': 'binary:logistic'}\n",
    "param['eval_metric'] = 'auc'\n",
    "\n",
    "steps = 30\n",
    "\n",
    "#Transformando o df em DMatrix por causa do XGBoost\n",
    "train = xgb.DMatrix(X_train, label=Y_train)\n",
    "\n",
    "model = xgb.train(param, train, steps)"
   ]
  },
  {
   "cell_type": "code",
   "execution_count": 53,
   "metadata": {},
   "outputs": [],
   "source": [
    "# Saving the current model\n",
    "model.save_model('./models/xgboost_0003.model')"
   ]
  },
  {
   "cell_type": "markdown",
   "metadata": {},
   "source": [
    "#### Evaluating the current model"
   ]
  },
  {
   "cell_type": "code",
   "execution_count": 44,
   "metadata": {},
   "outputs": [
    {
     "data": {
      "text/plain": [
       "array([0.12250785, 0.28831634, 0.11807205, ..., 0.28067452, 0.39013144,\n",
       "       0.19767644], dtype=float32)"
      ]
     },
     "execution_count": 44,
     "metadata": {},
     "output_type": "execute_result"
    }
   ],
   "source": [
    "bst = xgb.Booster({'nthread': 4})  # init model\n",
    "bst.load_model('./models/xgboost_model.bin') "
   ]
  },
  {
   "cell_type": "code",
   "execution_count": 54,
   "metadata": {},
   "outputs": [
    {
     "name": "stdout",
     "output_type": "stream",
     "text": [
      "Precision = 0.37119366626065775\n",
      "Recall = 0.5\n",
      "Accuracy = 0.7423873325213155\n",
      "AUC ROC = 0.8154517179813044\n"
     ]
    },
    {
     "name": "stderr",
     "output_type": "stream",
     "text": [
      "C:\\Users\\Lucas\\Anaconda3\\lib\\site-packages\\sklearn\\metrics\\_classification.py:1272: UndefinedMetricWarning: Precision is ill-defined and being set to 0.0 in labels with no predicted samples. Use `zero_division` parameter to control this behavior.\n",
      "  _warn_prf(average, modifier, msg_start, len(result))\n"
     ]
    }
   ],
   "source": [
    "D_test = xgb.DMatrix(X_test, label=Y_test)\n",
    "\n",
    "preds = model.predict(D_test)\n",
    "best_preds = np.asarray([np.argmax(line) for line in preds])\n",
    "\n",
    "print(\"Precision = {}\".format(precision_score(Y_test, best_preds, average='macro')))\n",
    "print(\"Recall = {}\".format(recall_score(Y_test, best_preds, average='macro')))\n",
    "print(\"Accuracy = {}\".format(accuracy_score(Y_test, best_preds)))\n",
    "print(\"AUC ROC = {}\".format(roc_auc_score(Y_test, preds)))"
   ]
  },
  {
   "cell_type": "markdown",
   "metadata": {},
   "source": [
    "#### Evaluating feature importance"
   ]
  },
  {
   "cell_type": "code",
   "execution_count": 55,
   "metadata": {},
   "outputs": [
    {
     "data": {
      "text/plain": [
       "<matplotlib.axes._subplots.AxesSubplot at 0x16922de7f48>"
      ]
     },
     "execution_count": 55,
     "metadata": {},
     "output_type": "execute_result"
    },
    {
     "data": {
      "text/plain": [
       "<Figure size 1800x1800 with 0 Axes>"
      ]
     },
     "metadata": {},
     "output_type": "display_data"
    },
    {
     "data": {
      "image/png": "[encoded data removed]",
      "text/plain": [
       "<Figure size 432x288 with 1 Axes>"
      ]
     },
     "metadata": {
      "needs_background": "light"
     },
     "output_type": "display_data"
    }
   ],
   "source": [
    "plt.figure(figsize=(25,25))\n",
    "xgb.plot_importance(model)"
   ]
  },
  {
   "cell_type": "markdown",
   "metadata": {},
   "source": [
    "### Modelo XGBoost using Scikit-learn"
   ]
  },
  {
   "cell_type": "code",
   "execution_count": 189,
   "metadata": {},
   "outputs": [],
   "source": [
    "from xgboost import XGBClassifier"
   ]
  },
  {
   "cell_type": "code",
   "execution_count": 190,
   "metadata": {},
   "outputs": [],
   "source": [
    "dados_modelo = fires.copy()"
   ]
  },
  {
   "cell_type": "code",
   "execution_count": 191,
   "metadata": {},
   "outputs": [],
   "source": [
    "y = (dados_modelo['fires'])\n",
    "x = dados_modelo.drop(columns = ['fires', 'id'])"
   ]
  },
  {
   "cell_type": "code",
   "execution_count": 192,
   "metadata": {},
   "outputs": [],
   "source": [
    "X_train, X_test, Y_train, Y_test = train_test_split(x, y, test_size=0.01)"
   ]
  },
  {
   "cell_type": "code",
   "execution_count": 194,
   "metadata": {},
   "outputs": [
    {
     "data": {
      "text/html": [
       "<div>\n",
       "<style scoped>\n",
       "    .dataframe tbody tr th:only-of-type {\n",
       "        vertical-align: middle;\n",
       "    }\n",
       "\n",
       "    .dataframe tbody tr th {\n",
       "        vertical-align: top;\n",
       "    }\n",
       "\n",
       "    .dataframe thead th {\n",
       "        text-align: right;\n",
       "    }\n",
       "</style>\n",
       "<table border=\"1\" class=\"dataframe\">\n",
       "  <thead>\n",
       "    <tr style=\"text-align: right;\">\n",
       "      <th></th>\n",
       "      <th>estacao</th>\n",
       "      <th>precipitacao</th>\n",
       "      <th>temp_max</th>\n",
       "      <th>temp_min</th>\n",
       "      <th>insolacao</th>\n",
       "      <th>evaporacao_piche</th>\n",
       "      <th>umidade_rel_med</th>\n",
       "      <th>vel_vento_med</th>\n",
       "      <th>altitude</th>\n",
       "      <th>delta_temp</th>\n",
       "      <th>ano</th>\n",
       "      <th>mes</th>\n",
       "      <th>dia</th>\n",
       "      <th>lat</th>\n",
       "      <th>long</th>\n",
       "    </tr>\n",
       "  </thead>\n",
       "  <tbody>\n",
       "    <tr>\n",
       "      <th>170570</th>\n",
       "      <td>19452</td>\n",
       "      <td>0.0</td>\n",
       "      <td>29.6</td>\n",
       "      <td>18.7</td>\n",
       "      <td>7.4</td>\n",
       "      <td>7.0</td>\n",
       "      <td>62.00</td>\n",
       "      <td>3.566667</td>\n",
       "      <td>370.46</td>\n",
       "      <td>10.9</td>\n",
       "      <td>2016</td>\n",
       "      <td>8</td>\n",
       "      <td>2</td>\n",
       "      <td>-8.28</td>\n",
       "      <td>-35.07</td>\n",
       "    </tr>\n",
       "    <tr>\n",
       "      <th>63099</th>\n",
       "      <td>73383</td>\n",
       "      <td>0.0</td>\n",
       "      <td>33.5</td>\n",
       "      <td>20.9</td>\n",
       "      <td>6.5</td>\n",
       "      <td>12.7</td>\n",
       "      <td>30.50</td>\n",
       "      <td>4.333333</td>\n",
       "      <td>1159.54</td>\n",
       "      <td>12.6</td>\n",
       "      <td>2017</td>\n",
       "      <td>10</td>\n",
       "      <td>22</td>\n",
       "      <td>-15.83</td>\n",
       "      <td>-47.86</td>\n",
       "    </tr>\n",
       "    <tr>\n",
       "      <th>86145</th>\n",
       "      <td>73147</td>\n",
       "      <td>7.4</td>\n",
       "      <td>37.0</td>\n",
       "      <td>23.5</td>\n",
       "      <td>7.4</td>\n",
       "      <td>7.5</td>\n",
       "      <td>69.00</td>\n",
       "      <td>1.600000</td>\n",
       "      <td>179.75</td>\n",
       "      <td>13.5</td>\n",
       "      <td>2016</td>\n",
       "      <td>11</td>\n",
       "      <td>11</td>\n",
       "      <td>-2.55</td>\n",
       "      <td>-44.30</td>\n",
       "    </tr>\n",
       "    <tr>\n",
       "      <th>105958</th>\n",
       "      <td>88782</td>\n",
       "      <td>0.0</td>\n",
       "      <td>25.2</td>\n",
       "      <td>15.5</td>\n",
       "      <td>8.6</td>\n",
       "      <td>3.9</td>\n",
       "      <td>59.75</td>\n",
       "      <td>NaN</td>\n",
       "      <td>1296.12</td>\n",
       "      <td>9.7</td>\n",
       "      <td>2016</td>\n",
       "      <td>9</td>\n",
       "      <td>10</td>\n",
       "      <td>-18.10</td>\n",
       "      <td>-44.38</td>\n",
       "    </tr>\n",
       "    <tr>\n",
       "      <th>41653</th>\n",
       "      <td>61065</td>\n",
       "      <td>0.0</td>\n",
       "      <td>32.0</td>\n",
       "      <td>21.2</td>\n",
       "      <td>3.9</td>\n",
       "      <td>4.0</td>\n",
       "      <td>77.75</td>\n",
       "      <td>1.714800</td>\n",
       "      <td>438.74</td>\n",
       "      <td>10.8</td>\n",
       "      <td>2017</td>\n",
       "      <td>12</td>\n",
       "      <td>8</td>\n",
       "      <td>-12.96</td>\n",
       "      <td>-38.51</td>\n",
       "    </tr>\n",
       "  </tbody>\n",
       "</table>\n",
       "</div>"
      ],
      "text/plain": [
       "        estacao  precipitacao  temp_max  temp_min  insolacao  \\\n",
       "170570    19452           0.0      29.6      18.7        7.4   \n",
       "63099     73383           0.0      33.5      20.9        6.5   \n",
       "86145     73147           7.4      37.0      23.5        7.4   \n",
       "105958    88782           0.0      25.2      15.5        8.6   \n",
       "41653     61065           0.0      32.0      21.2        3.9   \n",
       "\n",
       "        evaporacao_piche  umidade_rel_med  vel_vento_med  altitude  \\\n",
       "170570               7.0            62.00       3.566667    370.46   \n",
       "63099               12.7            30.50       4.333333   1159.54   \n",
       "86145                7.5            69.00       1.600000    179.75   \n",
       "105958               3.9            59.75            NaN   1296.12   \n",
       "41653                4.0            77.75       1.714800    438.74   \n",
       "\n",
       "        delta_temp   ano  mes  dia    lat   long  \n",
       "170570        10.9  2016    8    2  -8.28 -35.07  \n",
       "63099         12.6  2017   10   22 -15.83 -47.86  \n",
       "86145         13.5  2016   11   11  -2.55 -44.30  \n",
       "105958         9.7  2016    9   10 -18.10 -44.38  \n",
       "41653         10.8  2017   12    8 -12.96 -38.51  "
      ]
     },
     "execution_count": 194,
     "metadata": {},
     "output_type": "execute_result"
    }
   ],
   "source": [
    "X_train.tail()"
   ]
  },
  {
   "cell_type": "code",
   "execution_count": 195,
   "metadata": {},
   "outputs": [
    {
     "name": "stdout",
     "output_type": "stream",
     "text": [
      "Wall time: 22.8 s\n"
     ]
    },
    {
     "data": {
      "text/plain": [
       "XGBClassifier(base_score=0.5, booster=None, colsample_bylevel=1,\n",
       "              colsample_bynode=1, colsample_bytree=1, gamma=0, gpu_id=-1,\n",
       "              importance_type='gain', interaction_constraints=None,\n",
       "              learning_rate=0.300000012, max_delta_step=0, max_depth=6,\n",
       "              min_child_weight=1, missing=nan, monotone_constraints=None,\n",
       "              n_estimators=100, n_jobs=0, num_parallel_tree=1,\n",
       "              objective='binary:logistic', random_state=0, reg_alpha=0,\n",
       "              reg_lambda=1, scale_pos_weight=1, subsample=1, tree_method=None,\n",
       "              validate_parameters=False, verbosity=None)"
      ]
     },
     "execution_count": 195,
     "metadata": {},
     "output_type": "execute_result"
    }
   ],
   "source": [
    "model = XGBClassifier()\n",
    "\n",
    "eval_set = [(X_train, Y_train), (X_test, Y_test)]\n",
    "eval_metric = [\"auc\",\"error\"]\n",
    "\n",
    "%time model.fit(x, y, early_stopping_rounds = 40, eval_metric=eval_metric, eval_set=eval_set, verbose=False)"
   ]
  },
  {
   "cell_type": "code",
   "execution_count": 25,
   "metadata": {},
   "outputs": [],
   "source": [
    "y_pred = model.predict(X_test)\n",
    "round_predictions = [round(value) for value in y_pred]"
   ]
  },
  {
   "cell_type": "code",
   "execution_count": 84,
   "metadata": {},
   "outputs": [
    {
     "data": {
      "image/png": "[encoded data removed]",
      "text/plain": [
       "<Figure size 432x288 with 1 Axes>"
      ]
     },
     "metadata": {
      "needs_background": "light"
     },
     "output_type": "display_data"
    },
    {
     "data": {
      "image/png": "[encoded data removed]",
      "text/plain": [
       "<Figure size 432x288 with 1 Axes>"
      ]
     },
     "metadata": {
      "needs_background": "light"
     },
     "output_type": "display_data"
    }
   ],
   "source": [
    "results = model.evals_result()\n",
    "epochs = len(results['validation_0']['error'])\n",
    "x_axis = range(0, epochs)\n",
    "# plot classification error\n",
    "fig, ax = plt.subplots()\n",
    "ax.plot(x_axis, results['validation_0']['error'], label='Train')\n",
    "ax.plot(x_axis, results['validation_1']['error'], label='Test')\n",
    "ax.legend()\n",
    "plt.ylabel('Log Loss')\n",
    "plt.title('XGBoost Log Loss')\n",
    "plt.show()\n",
    "# plot auc curve\n",
    "fig, ax = plt.subplots()\n",
    "ax.plot(x_axis, results['validation_0']['auc'], label='Train')\n",
    "ax.plot(x_axis, results['validation_1']['auc'], label='Test')\n",
    "ax.legend()\n",
    "plt.ylabel('ROC AUC')\n",
    "plt.title('XGBoost Classification Error')\n",
    "plt.show()"
   ]
  },
  {
   "cell_type": "code",
   "execution_count": 26,
   "metadata": {},
   "outputs": [
    {
     "name": "stdout",
     "output_type": "stream",
     "text": [
      "Precision = 0.7640758650333119\n",
      "Recall = 0.7028033604013997\n",
      "Accuracy = 0.8109610802223988\n",
      "AUC ROC = 0.7028033604013996\n"
     ]
    }
   ],
   "source": [
    "print(\"Precision = {}\".format(precision_score(Y_test, round_predictions, average='macro')))\n",
    "print(\"Recall = {}\".format(recall_score(Y_test, round_predictions, average='macro')))\n",
    "print(\"Accuracy = {}\".format(accuracy_score(Y_test, round_predictions)))\n",
    "print(\"AUC ROC = {}\".format(roc_auc_score(Y_test, round_predictions)))"
   ]
  },
  {
   "cell_type": "code",
   "execution_count": 27,
   "metadata": {},
   "outputs": [
    {
     "data": {
      "text/html": [
       "<div>\n",
       "<style scoped>\n",
       "    .dataframe tbody tr th:only-of-type {\n",
       "        vertical-align: middle;\n",
       "    }\n",
       "\n",
       "    .dataframe tbody tr th {\n",
       "        vertical-align: top;\n",
       "    }\n",
       "\n",
       "    .dataframe thead th {\n",
       "        text-align: right;\n",
       "    }\n",
       "</style>\n",
       "<table border=\"1\" class=\"dataframe\">\n",
       "  <thead>\n",
       "    <tr style=\"text-align: right;\">\n",
       "      <th></th>\n",
       "      <th>id</th>\n",
       "      <th>estacao</th>\n",
       "      <th>precipitacao</th>\n",
       "      <th>temp_max</th>\n",
       "      <th>temp_min</th>\n",
       "      <th>insolacao</th>\n",
       "      <th>evaporacao_piche</th>\n",
       "      <th>umidade_rel_med</th>\n",
       "      <th>vel_vento_med</th>\n",
       "      <th>altitude</th>\n",
       "      <th>delta_temp</th>\n",
       "      <th>ano</th>\n",
       "      <th>mes</th>\n",
       "      <th>dia</th>\n",
       "      <th>lat</th>\n",
       "      <th>long</th>\n",
       "    </tr>\n",
       "  </thead>\n",
       "  <tbody>\n",
       "    <tr>\n",
       "      <th>0</th>\n",
       "      <td>251768</td>\n",
       "      <td>50484</td>\n",
       "      <td>5.8</td>\n",
       "      <td>34.7</td>\n",
       "      <td>23.7</td>\n",
       "      <td>8.8</td>\n",
       "      <td>NaN</td>\n",
       "      <td>92.00</td>\n",
       "      <td>1.028880</td>\n",
       "      <td>170.0</td>\n",
       "      <td>11.0</td>\n",
       "      <td>2016</td>\n",
       "      <td>1</td>\n",
       "      <td>27</td>\n",
       "      <td>-8.77</td>\n",
       "      <td>-70.55</td>\n",
       "    </tr>\n",
       "    <tr>\n",
       "      <th>1</th>\n",
       "      <td>251769</td>\n",
       "      <td>50484</td>\n",
       "      <td>0.0</td>\n",
       "      <td>30.0</td>\n",
       "      <td>23.7</td>\n",
       "      <td>0.2</td>\n",
       "      <td>NaN</td>\n",
       "      <td>93.00</td>\n",
       "      <td>0.000000</td>\n",
       "      <td>170.0</td>\n",
       "      <td>6.3</td>\n",
       "      <td>2016</td>\n",
       "      <td>1</td>\n",
       "      <td>28</td>\n",
       "      <td>-8.77</td>\n",
       "      <td>-70.55</td>\n",
       "    </tr>\n",
       "    <tr>\n",
       "      <th>2</th>\n",
       "      <td>251770</td>\n",
       "      <td>50484</td>\n",
       "      <td>0.0</td>\n",
       "      <td>35.5</td>\n",
       "      <td>24.1</td>\n",
       "      <td>7.1</td>\n",
       "      <td>NaN</td>\n",
       "      <td>97.00</td>\n",
       "      <td>0.000000</td>\n",
       "      <td>170.0</td>\n",
       "      <td>11.4</td>\n",
       "      <td>2016</td>\n",
       "      <td>1</td>\n",
       "      <td>29</td>\n",
       "      <td>-8.77</td>\n",
       "      <td>-70.55</td>\n",
       "    </tr>\n",
       "    <tr>\n",
       "      <th>3</th>\n",
       "      <td>251771</td>\n",
       "      <td>50484</td>\n",
       "      <td>NaN</td>\n",
       "      <td>NaN</td>\n",
       "      <td>NaN</td>\n",
       "      <td>NaN</td>\n",
       "      <td>NaN</td>\n",
       "      <td>NaN</td>\n",
       "      <td>0.000000</td>\n",
       "      <td>170.0</td>\n",
       "      <td>NaN</td>\n",
       "      <td>2016</td>\n",
       "      <td>8</td>\n",
       "      <td>5</td>\n",
       "      <td>-8.77</td>\n",
       "      <td>-70.55</td>\n",
       "    </tr>\n",
       "    <tr>\n",
       "      <th>4</th>\n",
       "      <td>251772</td>\n",
       "      <td>88948</td>\n",
       "      <td>0.0</td>\n",
       "      <td>34.7</td>\n",
       "      <td>21.6</td>\n",
       "      <td>8.3</td>\n",
       "      <td>2.0</td>\n",
       "      <td>86.75</td>\n",
       "      <td>0.666667</td>\n",
       "      <td>160.0</td>\n",
       "      <td>13.1</td>\n",
       "      <td>2019</td>\n",
       "      <td>5</td>\n",
       "      <td>28</td>\n",
       "      <td>-8.77</td>\n",
       "      <td>-70.55</td>\n",
       "    </tr>\n",
       "  </tbody>\n",
       "</table>\n",
       "</div>"
      ],
      "text/plain": [
       "       id  estacao  precipitacao  temp_max  temp_min  insolacao  \\\n",
       "0  251768    50484           5.8      34.7      23.7        8.8   \n",
       "1  251769    50484           0.0      30.0      23.7        0.2   \n",
       "2  251770    50484           0.0      35.5      24.1        7.1   \n",
       "3  251771    50484           NaN       NaN       NaN        NaN   \n",
       "4  251772    88948           0.0      34.7      21.6        8.3   \n",
       "\n",
       "   evaporacao_piche  umidade_rel_med  vel_vento_med  altitude  delta_temp  \\\n",
       "0               NaN            92.00       1.028880     170.0        11.0   \n",
       "1               NaN            93.00       0.000000     170.0         6.3   \n",
       "2               NaN            97.00       0.000000     170.0        11.4   \n",
       "3               NaN              NaN       0.000000     170.0         NaN   \n",
       "4               2.0            86.75       0.666667     160.0        13.1   \n",
       "\n",
       "    ano  mes  dia   lat   long  \n",
       "0  2016    1   27 -8.77 -70.55  \n",
       "1  2016    1   28 -8.77 -70.55  \n",
       "2  2016    1   29 -8.77 -70.55  \n",
       "3  2016    8    5 -8.77 -70.55  \n",
       "4  2019    5   28 -8.77 -70.55  "
      ]
     },
     "execution_count": 27,
     "metadata": {},
     "output_type": "execute_result"
    }
   ],
   "source": [
    "respostas.head()"
   ]
  },
  {
   "cell_type": "code",
   "execution_count": 198,
   "metadata": {},
   "outputs": [],
   "source": [
    "respostas = respostas.drop(columns = ['id'])"
   ]
  },
  {
   "cell_type": "code",
   "execution_count": 196,
   "metadata": {},
   "outputs": [
    {
     "data": {
      "text/html": [
       "<div>\n",
       "<style scoped>\n",
       "    .dataframe tbody tr th:only-of-type {\n",
       "        vertical-align: middle;\n",
       "    }\n",
       "\n",
       "    .dataframe tbody tr th {\n",
       "        vertical-align: top;\n",
       "    }\n",
       "\n",
       "    .dataframe thead th {\n",
       "        text-align: right;\n",
       "    }\n",
       "</style>\n",
       "<table border=\"1\" class=\"dataframe\">\n",
       "  <thead>\n",
       "    <tr style=\"text-align: right;\">\n",
       "      <th></th>\n",
       "      <th>id</th>\n",
       "      <th>estacao</th>\n",
       "      <th>precipitacao</th>\n",
       "      <th>temp_max</th>\n",
       "      <th>temp_min</th>\n",
       "      <th>insolacao</th>\n",
       "      <th>evaporacao_piche</th>\n",
       "      <th>umidade_rel_med</th>\n",
       "      <th>vel_vento_med</th>\n",
       "      <th>altitude</th>\n",
       "      <th>delta_temp</th>\n",
       "      <th>ano</th>\n",
       "      <th>mes</th>\n",
       "      <th>dia</th>\n",
       "      <th>lat</th>\n",
       "      <th>long</th>\n",
       "    </tr>\n",
       "  </thead>\n",
       "  <tbody>\n",
       "    <tr>\n",
       "      <th>0</th>\n",
       "      <td>251768</td>\n",
       "      <td>50484</td>\n",
       "      <td>5.8</td>\n",
       "      <td>34.7</td>\n",
       "      <td>23.7</td>\n",
       "      <td>8.8</td>\n",
       "      <td>NaN</td>\n",
       "      <td>92.00</td>\n",
       "      <td>1.028880</td>\n",
       "      <td>170.0</td>\n",
       "      <td>11.0</td>\n",
       "      <td>2016</td>\n",
       "      <td>1</td>\n",
       "      <td>27</td>\n",
       "      <td>-8.77</td>\n",
       "      <td>-70.55</td>\n",
       "    </tr>\n",
       "    <tr>\n",
       "      <th>1</th>\n",
       "      <td>251769</td>\n",
       "      <td>50484</td>\n",
       "      <td>0.0</td>\n",
       "      <td>30.0</td>\n",
       "      <td>23.7</td>\n",
       "      <td>0.2</td>\n",
       "      <td>NaN</td>\n",
       "      <td>93.00</td>\n",
       "      <td>0.000000</td>\n",
       "      <td>170.0</td>\n",
       "      <td>6.3</td>\n",
       "      <td>2016</td>\n",
       "      <td>1</td>\n",
       "      <td>28</td>\n",
       "      <td>-8.77</td>\n",
       "      <td>-70.55</td>\n",
       "    </tr>\n",
       "    <tr>\n",
       "      <th>2</th>\n",
       "      <td>251770</td>\n",
       "      <td>50484</td>\n",
       "      <td>0.0</td>\n",
       "      <td>35.5</td>\n",
       "      <td>24.1</td>\n",
       "      <td>7.1</td>\n",
       "      <td>NaN</td>\n",
       "      <td>97.00</td>\n",
       "      <td>0.000000</td>\n",
       "      <td>170.0</td>\n",
       "      <td>11.4</td>\n",
       "      <td>2016</td>\n",
       "      <td>1</td>\n",
       "      <td>29</td>\n",
       "      <td>-8.77</td>\n",
       "      <td>-70.55</td>\n",
       "    </tr>\n",
       "    <tr>\n",
       "      <th>3</th>\n",
       "      <td>251771</td>\n",
       "      <td>50484</td>\n",
       "      <td>NaN</td>\n",
       "      <td>NaN</td>\n",
       "      <td>NaN</td>\n",
       "      <td>NaN</td>\n",
       "      <td>NaN</td>\n",
       "      <td>NaN</td>\n",
       "      <td>0.000000</td>\n",
       "      <td>170.0</td>\n",
       "      <td>NaN</td>\n",
       "      <td>2016</td>\n",
       "      <td>8</td>\n",
       "      <td>5</td>\n",
       "      <td>-8.77</td>\n",
       "      <td>-70.55</td>\n",
       "    </tr>\n",
       "    <tr>\n",
       "      <th>4</th>\n",
       "      <td>251772</td>\n",
       "      <td>88948</td>\n",
       "      <td>0.0</td>\n",
       "      <td>34.7</td>\n",
       "      <td>21.6</td>\n",
       "      <td>8.3</td>\n",
       "      <td>2.0</td>\n",
       "      <td>86.75</td>\n",
       "      <td>0.666667</td>\n",
       "      <td>160.0</td>\n",
       "      <td>13.1</td>\n",
       "      <td>2019</td>\n",
       "      <td>5</td>\n",
       "      <td>28</td>\n",
       "      <td>-8.77</td>\n",
       "      <td>-70.55</td>\n",
       "    </tr>\n",
       "  </tbody>\n",
       "</table>\n",
       "</div>"
      ],
      "text/plain": [
       "       id  estacao  precipitacao  temp_max  temp_min  insolacao  \\\n",
       "0  251768    50484           5.8      34.7      23.7        8.8   \n",
       "1  251769    50484           0.0      30.0      23.7        0.2   \n",
       "2  251770    50484           0.0      35.5      24.1        7.1   \n",
       "3  251771    50484           NaN       NaN       NaN        NaN   \n",
       "4  251772    88948           0.0      34.7      21.6        8.3   \n",
       "\n",
       "   evaporacao_piche  umidade_rel_med  vel_vento_med  altitude  delta_temp  \\\n",
       "0               NaN            92.00       1.028880     170.0        11.0   \n",
       "1               NaN            93.00       0.000000     170.0         6.3   \n",
       "2               NaN            97.00       0.000000     170.0        11.4   \n",
       "3               NaN              NaN       0.000000     170.0         NaN   \n",
       "4               2.0            86.75       0.666667     160.0        13.1   \n",
       "\n",
       "    ano  mes  dia   lat   long  \n",
       "0  2016    1   27 -8.77 -70.55  \n",
       "1  2016    1   28 -8.77 -70.55  \n",
       "2  2016    1   29 -8.77 -70.55  \n",
       "3  2016    8    5 -8.77 -70.55  \n",
       "4  2019    5   28 -8.77 -70.55  "
      ]
     },
     "execution_count": 196,
     "metadata": {},
     "output_type": "execute_result"
    }
   ],
   "source": [
    "respostas.head()"
   ]
  },
  {
   "cell_type": "code",
   "execution_count": 199,
   "metadata": {},
   "outputs": [],
   "source": [
    "submission = model.predict(respostas)"
   ]
  },
  {
   "cell_type": "code",
   "execution_count": 197,
   "metadata": {},
   "outputs": [],
   "source": [
    "ids = respostas['id']"
   ]
  },
  {
   "cell_type": "code",
   "execution_count": 200,
   "metadata": {},
   "outputs": [
    {
     "data": {
      "text/plain": [
       "(44342,)"
      ]
     },
     "execution_count": 200,
     "metadata": {},
     "output_type": "execute_result"
    }
   ],
   "source": [
    "submission.shape"
   ]
  },
  {
   "cell_type": "code",
   "execution_count": 201,
   "metadata": {},
   "outputs": [],
   "source": [
    "submission = pd.DataFrame(submission)\n",
    "submission.columns = ['fires']"
   ]
  },
  {
   "cell_type": "code",
   "execution_count": 202,
   "metadata": {},
   "outputs": [],
   "source": [
    "(pd.merge(ids, submission, left_index = True, right_index = True)).to_csv('./submissions/sub_05.csv', index = False)"
   ]
  }
 ],
 "metadata": {
  "kernelspec": {
   "display_name": "Python 3",
   "language": "python",
   "name": "python3"
  },
  "language_info": {
   "codemirror_mode": {
    "name": "ipython",
    "version": 3
   },
   "file_extension": ".py",
   "mimetype": "text/x-python",
   "name": "python",
   "nbconvert_exporter": "python",
   "pygments_lexer": "ipython3",
   "version": "3.7.4"
  }
 },
 "nbformat": 4,
 "nbformat_minor": 4
}
